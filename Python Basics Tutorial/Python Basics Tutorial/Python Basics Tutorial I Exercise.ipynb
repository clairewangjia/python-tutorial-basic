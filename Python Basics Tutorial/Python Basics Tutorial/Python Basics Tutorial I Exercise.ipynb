{
 "cells": [
  {
   "cell_type": "markdown",
   "metadata": {},
   "source": [
    "# I. Basic Data Structures\n",
    "The basic data structures in Python include <b>tuple, list, string, dictionary</b>. The manipulation of these data structures is summarized in this section. The manipulation technics of the more complex data structure, <b>series, dataframe, and array</b> will be introduced in the subsequent sections!<br/><br/>\n",
    "The data type of variables can be identified with <font color='red'><b>type</b></font> function, i.e. <font color='red'><b>type(variable)</b></font>. Take note that checking the data type of variables might be very helpful in debugging!"
   ]
  },
  {
   "cell_type": "markdown",
   "metadata": {},
   "source": [
    "#### Question 1\n",
    "Check the data types of the following two variables.<br/>'This is a string'<br/> (1, 2, 3)"
   ]
  },
  {
   "cell_type": "code",
   "execution_count": 1,
   "metadata": {},
   "outputs": [
    {
     "data": {
      "text/plain": [
       "str"
      ]
     },
     "execution_count": 1,
     "metadata": {},
     "output_type": "execute_result"
    }
   ],
   "source": [
    "type('This is a string')"
   ]
  },
  {
   "cell_type": "code",
   "execution_count": 2,
   "metadata": {},
   "outputs": [
    {
     "data": {
      "text/plain": [
       "tuple"
      ]
     },
     "execution_count": 2,
     "metadata": {},
     "output_type": "execute_result"
    }
   ],
   "source": [
    "type((1,2,3))"
   ]
  },
  {
   "cell_type": "markdown",
   "metadata": {},
   "source": [
    "## List\n",
    "1. Lists are a mutable data structure. It is similar to the vector in R.\n",
    "2. Lists are declared by including the elements within <font color='red'><b>[ ]</b></font>.<br/>\n",
    "3. Different types of data can be put in a list.<br/>\n",
    "4. Element in a list can be accessed with index, i.e. <font color='red'><b>list[index]</b></font>. Index starts from 0.<br/>\n",
    "5. New element can be added to list with the <b>append</b> function, i.e. <font color='red'><b>list.append(new_element)</b></font>.<br/>\n",
    "6. Multiple lists can be concatenated with <b>\"+\"</b> or <b>\"`*`\"</b> operator, i.e. <font color='red'><b>list1 + list2, list `*` n</b></font>.<br/>\n",
    "7. The list elements can be viewed by <font color='red'><b>print(list)</b></font>.<br/>\n",
    "8. The number of elements in a list can be obtained by <font color='red'><b>len(list)</b></font> function.<br/>\n",
    "9. Existence of element in a list can be checked with <b>in</b> operator, i.e. <font color='red'><b>element in list</b></font>."
   ]
  },
  {
   "cell_type": "markdown",
   "metadata": {},
   "source": [
    "#### Question 2 \n",
    "Declare a list with the elements: <b>1, 'a', 2, 'b'</b>, add another element <b>3.3</b> to list, and print the all the elements in list <b>one by one</b>."
   ]
  },
  {
   "cell_type": "code",
   "execution_count": 17,
   "metadata": {},
   "outputs": [
    {
     "name": "stdout",
     "output_type": "stream",
     "text": [
      "a\n",
      "[1, 'a', 2, 'b', 3.3]\n",
      "[1, 'a', 2, 'b', 3.3]\n",
      "True\n"
     ]
    }
   ],
   "source": [
    "list1 = [1, 'a', 2, 'b']\n",
    "list1.append(3.3)\n",
    "print(list1[1])\n",
    "print(list1[:5])\n",
    "print(list1)\n",
    "print(3.3 in list1)"
   ]
  },
  {
   "cell_type": "code",
   "execution_count": 21,
   "metadata": {},
   "outputs": [
    {
     "name": "stdout",
     "output_type": "stream",
     "text": [
      "1\n",
      "a\n",
      "2\n",
      "b\n",
      "3.3\n"
     ]
    }
   ],
   "source": [
    "i=0\n",
    "while i != len(list1):\n",
    "    print(list1[i])\n",
    "    i +=1"
   ]
  },
  {
   "cell_type": "markdown",
   "metadata": {},
   "source": [
    "#### Question 3\n",
    "Concatenate two lists <b>[1, 2]</b> and <b>[3, 4]</b>, and check the existence of <b>5</b> in the concatenated list."
   ]
  },
  {
   "cell_type": "code",
   "execution_count": 2,
   "metadata": {},
   "outputs": [
    {
     "data": {
      "text/plain": [
       "[1, 2, 3, 4]"
      ]
     },
     "execution_count": 2,
     "metadata": {},
     "output_type": "execute_result"
    }
   ],
   "source": [
    "x = [1,2]+[3,4]\n",
    "x"
   ]
  },
  {
   "cell_type": "code",
   "execution_count": 3,
   "metadata": {},
   "outputs": [
    {
     "data": {
      "text/plain": [
       "False"
      ]
     },
     "execution_count": 3,
     "metadata": {},
     "output_type": "execute_result"
    }
   ],
   "source": [
    "5 in x"
   ]
  },
  {
   "cell_type": "code",
   "execution_count": 4,
   "metadata": {},
   "outputs": [
    {
     "name": "stdout",
     "output_type": "stream",
     "text": [
      "False\n"
     ]
    }
   ],
   "source": [
    "print(5 in x)"
   ]
  },
  {
   "cell_type": "markdown",
   "metadata": {},
   "source": [
    "## String\n",
    "String is considered as a special type of list with character elements. <b>All the list manipulation in the former section can be applied to strings. The following string slicing manipulations are also applicable to the normal lists.</b> Some string-specific technics include<br/>\n",
    "1. Split a string with <b>split</b> function on specifc character into a list of substrings, i.e. <font color=\"red\"><b>string.split(\"character\")</b></font><br/>\n",
    "2. Convert other data type to string by <font color=\"red\"><b>str(variable)</b></font>."
   ]
  },
  {
   "cell_type": "markdown",
   "metadata": {},
   "source": [
    "#### Question 4\n",
    "According to the following instructions, slice the given string with indexing operator, i.e. <font color=\"red\"><b>string[starting index:stopping index]</b></font>.<br/>\n",
    "(1) Slice the first two characters.<br/>\n",
    "(2) Slice the last character.<br/>\n",
    "(3) Slice from the beginning of the string and stopping before the 3rd element"
   ]
  },
  {
   "cell_type": "code",
   "execution_count": 9,
   "metadata": {},
   "outputs": [
    {
     "name": "stdout",
     "output_type": "stream",
     "text": [
      "['This', 'is']\n",
      "string\n",
      "['This', 'is', 'a']\n"
     ]
    }
   ],
   "source": [
    "x = 'This is a string'\n",
    "x1 = x.split(\" \")[:2]\n",
    "x2 = x.split(\" \")[-1]\n",
    "x3 = x.split(\" \")[0:3]\n",
    "\n",
    "print(x1)\n",
    "print(x2)\n",
    "print(x3)\n"
   ]
  },
  {
   "cell_type": "markdown",
   "metadata": {},
   "source": [
    "#### Question 5\n",
    "Given a string <b>'Christopher Arthur Hansen Brooks'</b>. Add a number 2 to the string as a character. Split the resulting string into a list of substrings on the whitespace. Check the existence of <b>'thu'</b> in the 2nd substring element."
   ]
  },
  {
   "cell_type": "code",
   "execution_count": 7,
   "metadata": {},
   "outputs": [
    {
     "name": "stdout",
     "output_type": "stream",
     "text": [
      "Christopher Arthur Hansen Brooks 2\n",
      "['Christopher', 'Arthur', 'Hansen', 'Brooks', '2']\n",
      "True\n"
     ]
    }
   ],
   "source": [
    "name = 'Christopher Arthur Hansen Brooks'\n",
    "\n",
    "name2 = name + ' ' + str(2)\n",
    "print(name2)\n",
    "word = name2.split()\n",
    "print(word)\n",
    "print('thu' in word[1])"
   ]
  },
  {
   "cell_type": "markdown",
   "metadata": {},
   "source": [
    "## Dictionary\n",
    "1. Dictionaries associate keys with values. They are declared by including the pairs of key and value within { }, i.e. <font color=\"red\"><b>dict = {key1: value1, key2: value2}</b></font>.<br/>\n",
    "2. Dictionary value can be accessed with a key, i.e. <font color=\"red\"><b>dict[key1]</b></font>.<br/>\n",
    "3. Dictionary can be extended by providing additional pairs of key and value, i.e. <font color=\"red\"><b>dict[key3] = value3</b></font>.</br>\n",
    "4. Dictionary keys, values, key-value pairs can be accessed by <font color=\"red\"><b>dict.keys(), dict.values(), dict.items()</b></font> respectively."
   ]
  },
  {
   "cell_type": "markdown",
   "metadata": {},
   "source": [
    "#### Question 6\n",
    "Declare a dictionary for the follwowing names and emails:<br/><br/>\n",
    "```'Christopher Brooks': 'brooksch@umich.edu', \n",
    "'Bill Gates': 'billg@microsoft.com'```<br/><br/>\n",
    "Add another element to the dictionary: 'Wang Shenghao': 'wangshenghao1993@gmail.com'. Get Bill Gates' email address by his name!"
   ]
  },
  {
   "cell_type": "code",
   "execution_count": 36,
   "metadata": {},
   "outputs": [
    {
     "data": {
      "text/plain": [
       "{'Bill Gates': 'billg@microsoft.com',\n",
       " 'Christopher Brooks': 'brooksch@umich.edu',\n",
       " 'Wang Shenghao': 'wangshenghao1993@gmail.com'}"
      ]
     },
     "execution_count": 36,
     "metadata": {},
     "output_type": "execute_result"
    }
   ],
   "source": [
    "info = {'Christopher Brooks': 'brooksch@umich.edu', \n",
    "'Bill Gates': 'billg@microsoft.com'}\n",
    "info['Wang Shenghao']='wangshenghao1993@gmail.com'\n",
    "info"
   ]
  },
  {
   "cell_type": "code",
   "execution_count": 37,
   "metadata": {
    "scrolled": true
   },
   "outputs": [
    {
     "data": {
      "text/plain": [
       "'billg@microsoft.com'"
      ]
     },
     "execution_count": 37,
     "metadata": {},
     "output_type": "execute_result"
    }
   ],
   "source": [
    "info['Bill Gates']"
   ]
  },
  {
   "cell_type": "markdown",
   "metadata": {},
   "source": [
    "#### Question 7\n",
    "Continue from Question 6. Iterate over all of the names as keys, print each email values."
   ]
  },
  {
   "cell_type": "code",
   "execution_count": 43,
   "metadata": {},
   "outputs": [
    {
     "name": "stdout",
     "output_type": "stream",
     "text": [
      "brooksch@umich.edu\n",
      "billg@microsoft.com\n",
      "wangshenghao1993@gmail.com\n"
     ]
    }
   ],
   "source": [
    "for name in info.keys():\n",
    "    print(info[name])"
   ]
  },
  {
   "cell_type": "code",
   "execution_count": null,
   "metadata": {
    "collapsed": true
   },
   "outputs": [],
   "source": []
  },
  {
   "cell_type": "code",
   "execution_count": 50,
   "metadata": {
    "scrolled": false
   },
   "outputs": [
    {
     "name": "stdout",
     "output_type": "stream",
     "text": [
      "brooksch@umich.edu\n",
      "billg@microsoft.com\n",
      "wangshenghao1993@gmail.com\n"
     ]
    }
   ],
   "source": [
    "for email in info.values():\n",
    "    print(email)"
   ]
  },
  {
   "cell_type": "code",
   "execution_count": 53,
   "metadata": {},
   "outputs": [
    {
     "name": "stdout",
     "output_type": "stream",
     "text": [
      "brooksch@umich.edu\n",
      "billg@microsoft.com\n",
      "wangshenghao1993@gmail.com\n"
     ]
    }
   ],
   "source": [
    "for name, email in info.items():\n",
    "    print(email)"
   ]
  },
  {
   "cell_type": "markdown",
   "metadata": {},
   "source": [
    "# II. Reading and Writing Data Files"
   ]
  },
  {
   "cell_type": "markdown",
   "metadata": {},
   "source": [
    "Data files with different formats can be imported and processed in Python. The common formats include .csv, .xls, .json, .txt. Pandas library is frequently used to load external data files. In addition, after the data is cleaned, it can also be exported in different formats for future use."
   ]
  },
  {
   "cell_type": "markdown",
   "metadata": {
    "collapsed": true
   },
   "source": [
    "## Import csv file as dataframe\n",
    "In Python, CSV data can be imported as dataframe or a list of dictionary objects. In the most common case, csv files are read as dataframes with the help of <b>pd.read_csv()</b> function, i.e. <font color=\"red\"><b>df = pd.read_csv('data.csv', skiprows = row # or a list of row #)</b></font>. Note that the <b>read_csv()</b> function can carry multiple parameters besides the file name. <b>skiprows</b> parameter is very useful when some redundant data exists in the CSV file.<br/>\n",
    "<font color=\"red\"><b>If skiprows = n, 1 to n rows of data will be ignored when data is loaded.<br/>\n",
    "If skiprows = [row #], the rows of data in the list will be ignored.</b></font>"
   ]
  },
  {
   "cell_type": "markdown",
   "metadata": {},
   "source": [
    "#### Question 8\n",
    "Read \"world_bank.csv\" as a dataframe and skip the first four rows. Display the first three rows to check if the data is loaded properly. "
   ]
  },
  {
   "cell_type": "code",
   "execution_count": 58,
   "metadata": {},
   "outputs": [
    {
     "data": {
      "text/html": [
       "<div>\n",
       "<style>\n",
       "    .dataframe thead tr:only-child th {\n",
       "        text-align: right;\n",
       "    }\n",
       "\n",
       "    .dataframe thead th {\n",
       "        text-align: left;\n",
       "    }\n",
       "\n",
       "    .dataframe tbody tr th {\n",
       "        vertical-align: top;\n",
       "    }\n",
       "</style>\n",
       "<table border=\"1\" class=\"dataframe\">\n",
       "  <thead>\n",
       "    <tr style=\"text-align: right;\">\n",
       "      <th></th>\n",
       "      <th>Country Name</th>\n",
       "      <th>Country Code</th>\n",
       "      <th>Indicator Name</th>\n",
       "      <th>Indicator Code</th>\n",
       "      <th>1960</th>\n",
       "      <th>1961</th>\n",
       "      <th>1962</th>\n",
       "      <th>1963</th>\n",
       "      <th>1964</th>\n",
       "      <th>1965</th>\n",
       "      <th>...</th>\n",
       "      <th>2006</th>\n",
       "      <th>2007</th>\n",
       "      <th>2008</th>\n",
       "      <th>2009</th>\n",
       "      <th>2010</th>\n",
       "      <th>2011</th>\n",
       "      <th>2012</th>\n",
       "      <th>2013</th>\n",
       "      <th>2014</th>\n",
       "      <th>2015</th>\n",
       "    </tr>\n",
       "  </thead>\n",
       "  <tbody>\n",
       "    <tr>\n",
       "      <th>0</th>\n",
       "      <td>Aruba</td>\n",
       "      <td>ABW</td>\n",
       "      <td>GDP at market prices (constant 2010 US$)</td>\n",
       "      <td>NY.GDP.MKTP.KD</td>\n",
       "      <td>NaN</td>\n",
       "      <td>NaN</td>\n",
       "      <td>NaN</td>\n",
       "      <td>NaN</td>\n",
       "      <td>NaN</td>\n",
       "      <td>NaN</td>\n",
       "      <td>...</td>\n",
       "      <td>NaN</td>\n",
       "      <td>NaN</td>\n",
       "      <td>NaN</td>\n",
       "      <td>NaN</td>\n",
       "      <td>2.467704e+09</td>\n",
       "      <td>NaN</td>\n",
       "      <td>NaN</td>\n",
       "      <td>NaN</td>\n",
       "      <td>NaN</td>\n",
       "      <td>NaN</td>\n",
       "    </tr>\n",
       "    <tr>\n",
       "      <th>1</th>\n",
       "      <td>Andorra</td>\n",
       "      <td>AND</td>\n",
       "      <td>GDP at market prices (constant 2010 US$)</td>\n",
       "      <td>NY.GDP.MKTP.KD</td>\n",
       "      <td>NaN</td>\n",
       "      <td>NaN</td>\n",
       "      <td>NaN</td>\n",
       "      <td>NaN</td>\n",
       "      <td>NaN</td>\n",
       "      <td>NaN</td>\n",
       "      <td>...</td>\n",
       "      <td>4.018196e+09</td>\n",
       "      <td>4.021331e+09</td>\n",
       "      <td>3.675728e+09</td>\n",
       "      <td>3.535389e+09</td>\n",
       "      <td>3.346317e+09</td>\n",
       "      <td>3.185605e+09</td>\n",
       "      <td>3.129538e+09</td>\n",
       "      <td>3.127550e+09</td>\n",
       "      <td>NaN</td>\n",
       "      <td>NaN</td>\n",
       "    </tr>\n",
       "    <tr>\n",
       "      <th>2</th>\n",
       "      <td>Afghanistan</td>\n",
       "      <td>AFG</td>\n",
       "      <td>GDP at market prices (constant 2010 US$)</td>\n",
       "      <td>NY.GDP.MKTP.KD</td>\n",
       "      <td>NaN</td>\n",
       "      <td>NaN</td>\n",
       "      <td>NaN</td>\n",
       "      <td>NaN</td>\n",
       "      <td>NaN</td>\n",
       "      <td>NaN</td>\n",
       "      <td>...</td>\n",
       "      <td>1.030523e+10</td>\n",
       "      <td>1.172119e+10</td>\n",
       "      <td>1.214448e+10</td>\n",
       "      <td>1.469733e+10</td>\n",
       "      <td>1.593680e+10</td>\n",
       "      <td>1.691113e+10</td>\n",
       "      <td>1.935220e+10</td>\n",
       "      <td>1.973134e+10</td>\n",
       "      <td>1.999032e+10</td>\n",
       "      <td>2.029415e+10</td>\n",
       "    </tr>\n",
       "  </tbody>\n",
       "</table>\n",
       "<p>3 rows × 60 columns</p>\n",
       "</div>"
      ],
      "text/plain": [
       "  Country Name Country Code                            Indicator Name  \\\n",
       "0        Aruba          ABW  GDP at market prices (constant 2010 US$)   \n",
       "1      Andorra          AND  GDP at market prices (constant 2010 US$)   \n",
       "2  Afghanistan          AFG  GDP at market prices (constant 2010 US$)   \n",
       "\n",
       "   Indicator Code  1960  1961  1962  1963  1964  1965      ...       \\\n",
       "0  NY.GDP.MKTP.KD   NaN   NaN   NaN   NaN   NaN   NaN      ...        \n",
       "1  NY.GDP.MKTP.KD   NaN   NaN   NaN   NaN   NaN   NaN      ...        \n",
       "2  NY.GDP.MKTP.KD   NaN   NaN   NaN   NaN   NaN   NaN      ...        \n",
       "\n",
       "           2006          2007          2008          2009          2010  \\\n",
       "0           NaN           NaN           NaN           NaN  2.467704e+09   \n",
       "1  4.018196e+09  4.021331e+09  3.675728e+09  3.535389e+09  3.346317e+09   \n",
       "2  1.030523e+10  1.172119e+10  1.214448e+10  1.469733e+10  1.593680e+10   \n",
       "\n",
       "           2011          2012          2013          2014          2015  \n",
       "0           NaN           NaN           NaN           NaN           NaN  \n",
       "1  3.185605e+09  3.129538e+09  3.127550e+09           NaN           NaN  \n",
       "2  1.691113e+10  1.935220e+10  1.973134e+10  1.999032e+10  2.029415e+10  \n",
       "\n",
       "[3 rows x 60 columns]"
      ]
     },
     "execution_count": 58,
     "metadata": {},
     "output_type": "execute_result"
    }
   ],
   "source": [
    "import pandas as pd\n",
    "df = pd.read_csv(\"world_bank.csv\",skiprows=4)\n",
    "df.head(3)"
   ]
  },
  {
   "cell_type": "markdown",
   "metadata": {},
   "source": [
    "## Import xls file as dataframe\n",
    "Similar to csv files, xls files can be imported with the <b>read_excel()</b> function from the Pandas library. <b>skiprows</b> and <b>skipfooter</b> parameters can be used to ignored the redundant rows of data. Note that it is the <b>no. of rows of data to be skipped at the bottom of the xls file</b> that needs to be assigned to the skipfooter parameter. Since a xls file may contain multiple spreadsheets, sheet name needs to be specified when there are multiple spreadsheets.<br/>\n",
    "<font color=\"red\"><b>df = pd.read_excel('data.xls', sheet_name = 'xxx', skiprows = n1, skipfooter = n2)</b></font>"
   ]
  },
  {
   "cell_type": "markdown",
   "metadata": {},
   "source": [
    "#### Question 9\n",
    "Load the \"Energy\" spreadsheet in \"Energy Indicators.xls\" as a dataframe. Skip the first 17 rows at the top and last 38 rows at the bottom of the xls file. Display the first few rows to check if the data is loaded properly."
   ]
  },
  {
   "cell_type": "code",
   "execution_count": 61,
   "metadata": {},
   "outputs": [
    {
     "data": {
      "text/html": [
       "<div>\n",
       "<style>\n",
       "    .dataframe thead tr:only-child th {\n",
       "        text-align: right;\n",
       "    }\n",
       "\n",
       "    .dataframe thead th {\n",
       "        text-align: left;\n",
       "    }\n",
       "\n",
       "    .dataframe tbody tr th {\n",
       "        vertical-align: top;\n",
       "    }\n",
       "</style>\n",
       "<table border=\"1\" class=\"dataframe\">\n",
       "  <thead>\n",
       "    <tr style=\"text-align: right;\">\n",
       "      <th></th>\n",
       "      <th>Unnamed: 0</th>\n",
       "      <th>Unnamed: 1</th>\n",
       "      <th>Unnamed: 2</th>\n",
       "      <th>Petajoules</th>\n",
       "      <th>Gigajoules</th>\n",
       "      <th>%</th>\n",
       "    </tr>\n",
       "  </thead>\n",
       "  <tbody>\n",
       "    <tr>\n",
       "      <th>0</th>\n",
       "      <td>NaN</td>\n",
       "      <td>Afghanistan</td>\n",
       "      <td>Afghanistan</td>\n",
       "      <td>321</td>\n",
       "      <td>10</td>\n",
       "      <td>78.669280</td>\n",
       "    </tr>\n",
       "    <tr>\n",
       "      <th>1</th>\n",
       "      <td>NaN</td>\n",
       "      <td>Albania</td>\n",
       "      <td>Albania</td>\n",
       "      <td>102</td>\n",
       "      <td>35</td>\n",
       "      <td>100.000000</td>\n",
       "    </tr>\n",
       "    <tr>\n",
       "      <th>2</th>\n",
       "      <td>NaN</td>\n",
       "      <td>Algeria</td>\n",
       "      <td>Algeria</td>\n",
       "      <td>1959</td>\n",
       "      <td>51</td>\n",
       "      <td>0.551010</td>\n",
       "    </tr>\n",
       "    <tr>\n",
       "      <th>3</th>\n",
       "      <td>NaN</td>\n",
       "      <td>American Samoa</td>\n",
       "      <td>American Samoa</td>\n",
       "      <td>...</td>\n",
       "      <td>...</td>\n",
       "      <td>0.641026</td>\n",
       "    </tr>\n",
       "    <tr>\n",
       "      <th>4</th>\n",
       "      <td>NaN</td>\n",
       "      <td>Andorra</td>\n",
       "      <td>Andorra</td>\n",
       "      <td>9</td>\n",
       "      <td>121</td>\n",
       "      <td>88.695650</td>\n",
       "    </tr>\n",
       "  </tbody>\n",
       "</table>\n",
       "</div>"
      ],
      "text/plain": [
       "   Unnamed: 0      Unnamed: 1      Unnamed: 2 Petajoules Gigajoules  \\\n",
       "0         NaN     Afghanistan     Afghanistan        321         10   \n",
       "1         NaN         Albania         Albania        102         35   \n",
       "2         NaN         Algeria         Algeria       1959         51   \n",
       "3         NaN  American Samoa  American Samoa        ...        ...   \n",
       "4         NaN         Andorra         Andorra          9        121   \n",
       "\n",
       "            %  \n",
       "0   78.669280  \n",
       "1  100.000000  \n",
       "2    0.551010  \n",
       "3    0.641026  \n",
       "4   88.695650  "
      ]
     },
     "execution_count": 61,
     "metadata": {},
     "output_type": "execute_result"
    }
   ],
   "source": [
    "df = pd.read_excel(\"Energy Indicators.xls\",sheet_name=\"Energy\",skiprows=17, skipfooter=38)\n",
    "df.head()"
   ]
  },
  {
   "cell_type": "markdown",
   "metadata": {},
   "source": [
    "#### Question 10\n",
    "Load the only spreadsheet in \"gdplev.xls\" as a dataframe, and skip the first 5 rows and the 7th, 8th row. Hint: create a list called \"skip\" to save the no. of rows to be ignored."
   ]
  },
  {
   "cell_type": "code",
   "execution_count": 70,
   "metadata": {},
   "outputs": [
    {
     "data": {
      "text/plain": [
       "[0, 1, 2, 3, 4, 6, 7]"
      ]
     },
     "execution_count": 70,
     "metadata": {},
     "output_type": "execute_result"
    }
   ],
   "source": [
    "skip = [i for i in range(0,5)]+[6,7]\n",
    "skip"
   ]
  },
  {
   "cell_type": "code",
   "execution_count": 71,
   "metadata": {},
   "outputs": [
    {
     "data": {
      "text/html": [
       "<div>\n",
       "<style>\n",
       "    .dataframe thead tr:only-child th {\n",
       "        text-align: right;\n",
       "    }\n",
       "\n",
       "    .dataframe thead th {\n",
       "        text-align: left;\n",
       "    }\n",
       "\n",
       "    .dataframe tbody tr th {\n",
       "        vertical-align: top;\n",
       "    }\n",
       "</style>\n",
       "<table border=\"1\" class=\"dataframe\">\n",
       "  <thead>\n",
       "    <tr style=\"text-align: right;\">\n",
       "      <th></th>\n",
       "      <th>Unnamed: 0</th>\n",
       "      <th>GDP in billions of current dollars</th>\n",
       "      <th>GDP in billions of chained 2009 dollars</th>\n",
       "      <th>Unnamed: 3</th>\n",
       "      <th>Unnamed: 4</th>\n",
       "      <th>GDP in billions of current dollars.1</th>\n",
       "      <th>GDP in billions of chained 2009 dollars.1</th>\n",
       "      <th>Unnamed: 7</th>\n",
       "    </tr>\n",
       "  </thead>\n",
       "  <tbody>\n",
       "    <tr>\n",
       "      <th>0</th>\n",
       "      <td>1929.0</td>\n",
       "      <td>104.6</td>\n",
       "      <td>1056.6</td>\n",
       "      <td>NaN</td>\n",
       "      <td>1947q1</td>\n",
       "      <td>243.1</td>\n",
       "      <td>1934.5</td>\n",
       "      <td>NaN</td>\n",
       "    </tr>\n",
       "    <tr>\n",
       "      <th>1</th>\n",
       "      <td>1930.0</td>\n",
       "      <td>92.2</td>\n",
       "      <td>966.7</td>\n",
       "      <td>NaN</td>\n",
       "      <td>1947q2</td>\n",
       "      <td>246.3</td>\n",
       "      <td>1932.3</td>\n",
       "      <td>NaN</td>\n",
       "    </tr>\n",
       "    <tr>\n",
       "      <th>2</th>\n",
       "      <td>1931.0</td>\n",
       "      <td>77.4</td>\n",
       "      <td>904.8</td>\n",
       "      <td>NaN</td>\n",
       "      <td>1947q3</td>\n",
       "      <td>250.1</td>\n",
       "      <td>1930.3</td>\n",
       "      <td>NaN</td>\n",
       "    </tr>\n",
       "    <tr>\n",
       "      <th>3</th>\n",
       "      <td>1932.0</td>\n",
       "      <td>59.5</td>\n",
       "      <td>788.2</td>\n",
       "      <td>NaN</td>\n",
       "      <td>1947q4</td>\n",
       "      <td>260.3</td>\n",
       "      <td>1960.7</td>\n",
       "      <td>NaN</td>\n",
       "    </tr>\n",
       "    <tr>\n",
       "      <th>4</th>\n",
       "      <td>1933.0</td>\n",
       "      <td>57.2</td>\n",
       "      <td>778.3</td>\n",
       "      <td>NaN</td>\n",
       "      <td>1948q1</td>\n",
       "      <td>266.2</td>\n",
       "      <td>1989.5</td>\n",
       "      <td>NaN</td>\n",
       "    </tr>\n",
       "  </tbody>\n",
       "</table>\n",
       "</div>"
      ],
      "text/plain": [
       "   Unnamed: 0  GDP in billions of current dollars  \\\n",
       "0      1929.0                               104.6   \n",
       "1      1930.0                                92.2   \n",
       "2      1931.0                                77.4   \n",
       "3      1932.0                                59.5   \n",
       "4      1933.0                                57.2   \n",
       "\n",
       "   GDP in billions of chained 2009 dollars  Unnamed: 3 Unnamed: 4  \\\n",
       "0                                   1056.6         NaN     1947q1   \n",
       "1                                    966.7         NaN     1947q2   \n",
       "2                                    904.8         NaN     1947q3   \n",
       "3                                    788.2         NaN     1947q4   \n",
       "4                                    778.3         NaN     1948q1   \n",
       "\n",
       "   GDP in billions of current dollars.1  \\\n",
       "0                                 243.1   \n",
       "1                                 246.3   \n",
       "2                                 250.1   \n",
       "3                                 260.3   \n",
       "4                                 266.2   \n",
       "\n",
       "   GDP in billions of chained 2009 dollars.1  Unnamed: 7  \n",
       "0                                     1934.5         NaN  \n",
       "1                                     1932.3         NaN  \n",
       "2                                     1930.3         NaN  \n",
       "3                                     1960.7         NaN  \n",
       "4                                     1989.5         NaN  "
      ]
     },
     "execution_count": 71,
     "metadata": {},
     "output_type": "execute_result"
    }
   ],
   "source": [
    "df = pd.read_excel(\"gdplev.xls\",skiprows=skip)\n",
    "df.head()"
   ]
  },
  {
   "cell_type": "markdown",
   "metadata": {},
   "source": [
    "## Import json file\n",
    "Json files can be loaded as dataframes or lists of objects and converted to other formats of data based on needs.<br/>\n",
    "Import json as dataframe: <font color=\"red\"><b>df = pd.read_json('data.json')</b></font><br/>\n",
    "Import json as list of objects: <font color=\"red\"><b>jsonlist = json.loads(open('data.json').read())</b></font><br/>"
   ]
  },
  {
   "cell_type": "markdown",
   "metadata": {},
   "source": [
    "#### Question 11 \n",
    "Read 'crop_top3.json' as a dataframe, and display the dataframe."
   ]
  },
  {
   "cell_type": "code",
   "execution_count": 73,
   "metadata": {},
   "outputs": [
    {
     "data": {
      "text/html": [
       "<div>\n",
       "<style>\n",
       "    .dataframe thead tr:only-child th {\n",
       "        text-align: right;\n",
       "    }\n",
       "\n",
       "    .dataframe thead th {\n",
       "        text-align: left;\n",
       "    }\n",
       "\n",
       "    .dataframe tbody tr th {\n",
       "        vertical-align: top;\n",
       "    }\n",
       "</style>\n",
       "<table border=\"1\" class=\"dataframe\">\n",
       "  <thead>\n",
       "    <tr style=\"text-align: right;\">\n",
       "      <th></th>\n",
       "      <th>error</th>\n",
       "      <th>method</th>\n",
       "      <th>reqid</th>\n",
       "      <th>result</th>\n",
       "      <th>status</th>\n",
       "    </tr>\n",
       "  </thead>\n",
       "  <tbody>\n",
       "    <tr>\n",
       "      <th>0</th>\n",
       "      <td>[]</td>\n",
       "      <td>image/recognize</td>\n",
       "      <td>709980431671578624</td>\n",
       "      <td>[{'objects': [{'box': [400, 371, 819, 875], 't...</td>\n",
       "      <td>OK</td>\n",
       "    </tr>\n",
       "    <tr>\n",
       "      <th>1</th>\n",
       "      <td>[]</td>\n",
       "      <td>image/recognize</td>\n",
       "      <td>709980434926358528</td>\n",
       "      <td>[{'objects': [{'box': [123, 83, 251, 225], 'ta...</td>\n",
       "      <td>OK</td>\n",
       "    </tr>\n",
       "    <tr>\n",
       "      <th>2</th>\n",
       "      <td>[]</td>\n",
       "      <td>image/recognize</td>\n",
       "      <td>709980437405196288</td>\n",
       "      <td>[{'objects': [{'box': [164, 54, 269, 179], 'ta...</td>\n",
       "      <td>OK</td>\n",
       "    </tr>\n",
       "  </tbody>\n",
       "</table>\n",
       "</div>"
      ],
      "text/plain": [
       "  error           method               reqid  \\\n",
       "0    []  image/recognize  709980431671578624   \n",
       "1    []  image/recognize  709980434926358528   \n",
       "2    []  image/recognize  709980437405196288   \n",
       "\n",
       "                                              result status  \n",
       "0  [{'objects': [{'box': [400, 371, 819, 875], 't...     OK  \n",
       "1  [{'objects': [{'box': [123, 83, 251, 225], 'ta...     OK  \n",
       "2  [{'objects': [{'box': [164, 54, 269, 179], 'ta...     OK  "
      ]
     },
     "execution_count": 73,
     "metadata": {},
     "output_type": "execute_result"
    }
   ],
   "source": [
    "df = pd.read_json('crop_top3.json')\n",
    "df.head()"
   ]
  },
  {
   "cell_type": "code",
   "execution_count": 78,
   "metadata": {},
   "outputs": [
    {
     "data": {
      "text/plain": [
       "[{'error': [],\n",
       "  'method': 'image/recognize',\n",
       "  'reqid': '709980431671578624',\n",
       "  'result': [{'objects': [{'box': [400, 371, 819, 875],\n",
       "      'tags': [{'score': 0.9930158853530884, 'tag': 'top'}]},\n",
       "     {'box': [306, 885, 880, 1499],\n",
       "      'tags': [{'score': 0.7722217440605164, 'tag': 'bottom'}]}],\n",
       "    'tag_group': 'product_detection'}],\n",
       "  'status': 'OK'},\n",
       " {'error': [],\n",
       "  'method': 'image/recognize',\n",
       "  'reqid': '709980434926358528',\n",
       "  'result': [{'objects': [{'box': [123, 83, 251, 225],\n",
       "      'tags': [{'score': 0.9871655702590942, 'tag': 'top'}]},\n",
       "     {'box': [116, 233, 270, 362],\n",
       "      'tags': [{'score': 0.6762250065803528, 'tag': 'skirt'}]},\n",
       "     {'box': [111, 108, 262, 326],\n",
       "      'tags': [{'score': 0.23642201721668243, 'tag': 'other'}]}],\n",
       "    'tag_group': 'product_detection'}],\n",
       "  'status': 'OK'}]"
      ]
     },
     "execution_count": 78,
     "metadata": {},
     "output_type": "execute_result"
    }
   ],
   "source": [
    "import json\n",
    "lt = json.loads(open('crop_top3.json').read())\n",
    "lt[0:2]"
   ]
  },
  {
   "cell_type": "markdown",
   "metadata": {},
   "source": [
    "## Write dataframe into csv file\n",
    "Dataframes can be written into csv files with the <b>to_csv</b> function. Set <b>index</b> parameter to False to exclude the index column in the output csv file.<br/>\n",
    "<font color=\"red\"><b>df.to_csv('output.csv', index=False)</b></font>"
   ]
  },
  {
   "cell_type": "markdown",
   "metadata": {},
   "source": [
    "#### Question 12\n",
    "Export any of the resulting dataframe of from Question 8-11 into 'output.csv' without index."
   ]
  },
  {
   "cell_type": "code",
   "execution_count": 79,
   "metadata": {
    "collapsed": true
   },
   "outputs": [],
   "source": [
    "df.to_csv('op.csv')\n",
    "df.to_csv('op2.csv',index=False)"
   ]
  }
 ],
 "metadata": {
  "kernelspec": {
   "display_name": "Python 3",
   "language": "python",
   "name": "python3"
  },
  "language_info": {
   "codemirror_mode": {
    "name": "ipython",
    "version": 3
   },
   "file_extension": ".py",
   "mimetype": "text/x-python",
   "name": "python",
   "nbconvert_exporter": "python",
   "pygments_lexer": "ipython3",
   "version": "3.6.3"
  }
 },
 "nbformat": 4,
 "nbformat_minor": 2
}
