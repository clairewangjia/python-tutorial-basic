{
 "cells": [
  {
   "cell_type": "markdown",
   "metadata": {},
   "source": [
    "## Read all csvs in the folder and concat with pandas df"
   ]
  },
  {
   "cell_type": "code",
   "execution_count": null,
   "metadata": {
    "collapsed": true
   },
   "outputs": [],
   "source": [
    "import pandas as pd\n",
    "import os \n",
    "import glob\n",
    "\n",
    "path =r'G:\\msba\\CS5344_bda\\project\\cs5344-project\\cs5344-project\\btc_tx_data\\data\\trans_final' # use your path\n",
    "allFiles = glob.glob(path + \"/*.csv\")\n",
    "frame = pd.DataFrame()\n",
    "list_ = []\n",
    "for file_ in allFiles:\n",
    "    df = pd.read_csv(file_,index_col=None, header=0)\n",
    "    list_.append(df)\n",
    "frame = pd.concat(list_)"
   ]
  },
  {
   "cell_type": "code",
   "execution_count": null,
   "metadata": {
    "collapsed": true
   },
   "outputs": [],
   "source": [
    "import os\n",
    "os.chdir('G:\\\\msba\\\\career\\\\Visenze\\\\trend\\\\myntra')\n",
    "\n",
    "filenames = []\n",
    "for file in listdir():\n",
    "    filenames.append(file)\n",
    "    \n",
    "for i in range(1, len(filenames)+1):\n",
    "    if i == 1:\n",
    "        merged_df = pd.read_csv(filenames[0])\n",
    "    else:\n",
    "        df = pd.read_csv(filenames[i-1])\n",
    "        merged_df = pd.merge(df, merged_df,how=\"outer\", on=\"url\")"
   ]
  }
 ],
 "metadata": {
  "kernelspec": {
   "display_name": "Python 3",
   "language": "python",
   "name": "python3"
  },
  "language_info": {
   "codemirror_mode": {
    "name": "ipython",
    "version": 3
   },
   "file_extension": ".py",
   "mimetype": "text/x-python",
   "name": "python",
   "nbconvert_exporter": "python",
   "pygments_lexer": "ipython3",
   "version": "3.6.3"
  }
 },
 "nbformat": 4,
 "nbformat_minor": 2
}
